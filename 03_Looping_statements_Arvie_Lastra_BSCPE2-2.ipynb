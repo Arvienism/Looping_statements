{
 "cells": [
  {
   "cell_type": "markdown",
   "metadata": {},
   "source": [
    "## Lab 2 Exercise 1\n",
    "#### A teacher named Mrs. Rivera who loved making math fun for her students. One day, a student named Mia asked how to calculate powers, like (2^7). Mrs. Rivera explained, “Imagine you need to multiply 2 by itself seven times. We can solve this using a python code utilizing  special method called recursion to solve this,” \n",
    "### Can you help the class of Mrs. Rivera by providing the recursive method to calculate powers?"
   ]
  },
  {
   "cell_type": "code",
   "execution_count": 1,
   "metadata": {},
   "outputs": [
    {
     "name": "stdout",
     "output_type": "stream",
     "text": [
      "2 ^ 7 = 128.00\n"
     ]
    }
   ],
   "source": [
    "class calculate_power:\n",
    "    def __init__(self) -> None:\n",
    "        self.number = int(input(\"Enter the number you want to raise: \"))\n",
    "        self.power = int(input(\"Raise it to: \"))\n",
    "\n",
    "    def calculate_power_recursive(self, number, power):\n",
    "        if power == 0:\n",
    "            return 1\n",
    "        else:\n",
    "            return number * self.calculate_power_recursive(number, power - 1)\n",
    "\n",
    "    def print_power(self):\n",
    "        result = self.calculate_power_recursive(self.number, self.power)\n",
    "        print(f\"{self.number} ^ {self.power} = {result:.2f}\")\n",
    "\n",
    "powered_number = calculate_power()\n",
    "powered_number.print_power()"
   ]
  },
  {
   "cell_type": "markdown",
   "metadata": {},
   "source": [
    "## Lab 2 Exercise 2\n",
    "#### compute for the cube of integers. "
   ]
  },
  {
   "cell_type": "code",
   "execution_count": 4,
   "metadata": {},
   "outputs": [
    {
     "name": "stdout",
     "output_type": "stream",
     "text": [
      "27\n",
      "1000\n",
      "8000\n"
     ]
    }
   ],
   "source": [
    "class cuber:\n",
    "    def __init__(self) -> None:\n",
    "        self.size = int(input(\"Enter the size of the array: \"))\n",
    "        self.elements = list(map(int, input(\"Enter the elements separated by spaces: \").split()))\n",
    "\n",
    "    def cube_the_elements(self):\n",
    "        if len(self.elements) != self.size:\n",
    "            print(\"The number of elements does not match the specified size!!!\")\n",
    "        else:\n",
    "            for cube in self.elements:\n",
    "                print(cube ** 3)\n",
    "\n",
    "cube_of_elements = cuber()\n",
    "cube_of_elements.cube_the_elements()"
   ]
  },
  {
   "cell_type": "markdown",
   "metadata": {},
   "source": [
    "## Lab 2 Exercise 3\n",
    "#### Generate a hollow square based on the + integer input side length n."
   ]
  },
  {
   "cell_type": "code",
   "execution_count": 7,
   "metadata": {},
   "outputs": [
    {
     "name": "stdout",
     "output_type": "stream",
     "text": [
      "******\n",
      "*    *\n",
      "*    *\n",
      "*    *\n",
      "*    *\n",
      "******\n"
     ]
    }
   ],
   "source": [
    "class hollow_square:\n",
    "    def __init__(self) -> None:\n",
    "        self.n = int(input(\"Enter the side length of the square: \"))\n",
    "    \n",
    "    def print_hollow_square(self):\n",
    "        for i in range(self.n):\n",
    "            if i == 0 or i == self.n - 1:\n",
    "                print(\"*\" * self.n)\n",
    "            else:\n",
    "                print(\"*\" + \" \" * (self.n - 2) + \"*\")\n",
    "\n",
    "length = hollow_square()\n",
    "length.print_hollow_square()"
   ]
  },
  {
   "cell_type": "markdown",
   "metadata": {},
   "source": [
    "### Lab 2 Exercise 4\n",
    "#### Generate an inverted right triangle of height n."
   ]
  },
  {
   "cell_type": "code",
   "execution_count": 8,
   "metadata": {},
   "outputs": [
    {
     "name": "stdout",
     "output_type": "stream",
     "text": [
      "******\n",
      "*****\n",
      "****\n",
      "***\n",
      "**\n",
      "*\n"
     ]
    }
   ],
   "source": [
    "class right_triangle:\n",
    "    def __init__(self) -> None:\n",
    "        self.n = int(input(\"Enter the height of the triangle: \"))\n",
    "\n",
    "    def inverted_right_triangle(self):\n",
    "        for i in reversed(range(self.n)):\n",
    "            print(\"*\" * (i + 1))\n",
    "\n",
    "height = right_triangle()\n",
    "height.inverted_right_triangle() "
   ]
  }
 ],
 "metadata": {
  "kernelspec": {
   "display_name": "Python 3",
   "language": "python",
   "name": "python3"
  },
  "language_info": {
   "codemirror_mode": {
    "name": "ipython",
    "version": 3
   },
   "file_extension": ".py",
   "mimetype": "text/x-python",
   "name": "python",
   "nbconvert_exporter": "python",
   "pygments_lexer": "ipython3",
   "version": "3.12.6"
  }
 },
 "nbformat": 4,
 "nbformat_minor": 2
}
